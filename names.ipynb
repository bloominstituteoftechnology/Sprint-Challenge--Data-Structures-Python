{
 "cells": [
  {
   "cell_type": "code",
   "execution_count": 1,
   "metadata": {},
   "outputs": [],
   "source": [
    "\"\"\"Each ListNode holds a reference to its previous node\n",
    "as well as its next node in the List.\"\"\"\n",
    "\n",
    "\n",
    "class ListNode:\n",
    "    def __init__(self, value, prev=None, next=None):\n",
    "        self.value = value\n",
    "        self.prev = prev\n",
    "        self.next = next\n",
    "\n",
    "    \"\"\"Wrap the given value in a ListNode and insert it\n",
    "    after this node. Note that this node could already\n",
    "    have a next node it is point to.\"\"\"\n",
    "    def insert_after(self, value):\n",
    "        current_next = self.next\n",
    "        self.next = ListNode(value, self, current_next)\n",
    "        if current_next:\n",
    "            current_next.prev = self.next\n",
    "\n",
    "    \"\"\"Wrap the given value in a ListNode and insert it\n",
    "    before this node. Note that this node could already\n",
    "    have a previous node it is point to.\"\"\"\n",
    "    def insert_before(self, value):\n",
    "        current_prev = self.prev\n",
    "        self.prev = ListNode(value, current_prev, self)\n",
    "        if current_prev:\n",
    "            current_prev.next = self.prev\n",
    "\n",
    "    \"\"\"Rearranges this ListNode's previous and next pointers\n",
    "    accordingly, effectively deleting this ListNode.\"\"\"\n",
    "    def delete(self):\n",
    "        if self.prev:\n",
    "            self.prev.next = self.next\n",
    "        if self.next:\n",
    "            self.next.prev = self.prev\n",
    "\n",
    "\n",
    "\"\"\"Our doubly-linked list class. It holds references to\n",
    "the list's head and tail nodes.\"\"\"\n",
    "\n",
    "\n",
    "class DoublyLinkedList:\n",
    "    def __init__(self, node=None):\n",
    "        self.head = node\n",
    "        self.tail = node\n",
    "        self.length = 1 if node is not None else 0\n",
    "\n",
    "    def __len__(self):\n",
    "        return self.length\n",
    "\n",
    "    \"\"\"Wraps the given value in a ListNode and inserts it \n",
    "    as the new head of the list. Don't forget to handle \n",
    "    the old head node's previous pointer accordingly.\"\"\"\n",
    "    def add_to_head(self, value):\n",
    "        new_node = ListNode(value)\n",
    "        self.length += 1\n",
    "        if not self.head and not self.tail:\n",
    "            self.head = new_node\n",
    "            self.tail = new_node\n",
    "        else:\n",
    "            new_node.next = self.head\n",
    "            self.head.prev = new_node\n",
    "            self.head = new_node\n",
    "\n",
    "    \"\"\"Removes the List's current head node, making the\n",
    "    current head's next node the new head of the List.\n",
    "    Returns the value of the removed Node.\"\"\"\n",
    "    def remove_from_head(self):\n",
    "        value = self.head.value\n",
    "        self.delete(self.head)\n",
    "        return value\n",
    "\n",
    "    \"\"\"Wraps the given value in a ListNode and inserts it \n",
    "    as the new tail of the list. Don't forget to handle \n",
    "    the old tail node's next pointer accordingly.\"\"\"\n",
    "    def add_to_tail(self, value):\n",
    "        new_node = ListNode(value)\n",
    "        self.length += 1\n",
    "        if not self.head and not self.tail:\n",
    "            self.head = new_node\n",
    "            self.tail = new_node\n",
    "        else:\n",
    "            new_node.prev = self.tail\n",
    "            self.tail.next = new_node\n",
    "            self.tail = new_node\n",
    "\n",
    "    \"\"\"Removes the List's current tail node, making the \n",
    "    current tail's previous node the new tail of the List.\n",
    "    Returns the value of the removed Node.\"\"\"\n",
    "    def remove_from_tail(self):\n",
    "        value = self.tail.value\n",
    "        self.delete(self.tail)\n",
    "        return value\n",
    "\n",
    "    \"\"\"Removes the input node from its current spot in the \n",
    "    List and inserts it as the new head node of the List.\"\"\"\n",
    "    def move_to_front(self, node):\n",
    "        if node is self.head:\n",
    "            return\n",
    "        value = node.value\n",
    "        self.delete(node)\n",
    "        self.add_to_head(value)\n",
    "\n",
    "    \"\"\"Removes the input node from its current spot in the \n",
    "    List and inserts it as the new tail node of the List.\"\"\"\n",
    "    def move_to_end(self, node):\n",
    "        if node is self.tail:\n",
    "            return\n",
    "        value = node.value\n",
    "        self.delete(node)\n",
    "        self.add_to_tail(value)\n",
    "\n",
    "    \"\"\"Removes a node from the list and handles cases where\n",
    "    the node was the head or the tail\"\"\"\n",
    "    def delete(self, node):\n",
    "        # TODO: Catch errors if list is empty or node is not in list\n",
    "        # For now assumine node is in list\n",
    "        self.length -= 1\n",
    "        # if head and tail\n",
    "        if self.head is self.tail:\n",
    "            self.head = None\n",
    "            self.tail = None\n",
    "        # if head\n",
    "        elif node is self.head:\n",
    "            self.head = self.head.next\n",
    "            node.delete()\n",
    "\n",
    "        # if tail\n",
    "        elif node is self.tail:\n",
    "            self.tail = self.tail.prev\n",
    "            node.delete()\n",
    "        else:\n",
    "            # if regular node\n",
    "            node.delete()\n",
    "\n",
    "    \"\"\"Returns the highest value currently in the list\"\"\"\n",
    "    def get_max(self):\n",
    "        # Loop through all nodes, looking for biggest value\n",
    "        # TODO: Error checking\n",
    "        if not self.head:\n",
    "            return None\n",
    "        max_value = self.head.value\n",
    "        current = self.head\n",
    "        while current:\n",
    "            if current.value > max_value:\n",
    "                max_value = current.value\n",
    "            current = current.next\n",
    "\n",
    "        return max_value"
   ]
  },
  {
   "cell_type": "code",
   "execution_count": 2,
   "metadata": {},
   "outputs": [],
   "source": [
    "\n",
    "class LRUCache:\n",
    "    \"\"\"\n",
    "    Our LRUCache class keeps track of the max number of nodes it\n",
    "    can hold, the current number of nodes it is holding, a doubly-\n",
    "    linked list that holds the key-value entries in the correct\n",
    "    order, as well as a storage dict that provides fast access\n",
    "    to every node stored in the cache. \n",
    "    \"\"\"\n",
    "    def __init__(self, limit=10):\n",
    "        self.limit = limit\n",
    "        self.size = 0\n",
    "        self.dictionary = {}\n",
    "        self.linkedList = DoublyLinkedList()\n",
    "\n",
    "    def get(self, key):\n",
    "        if key in self.dictionary:   \n",
    "            # Append to duplicates\n",
    "            duplicates.append(key)\n",
    "            \n",
    "            node = self.dictionary[key]\n",
    "            self.linkedList.move_to_end(node)\n",
    "            return node.value[1]\n",
    "        else:\n",
    "            return None\n",
    "\n",
    "    def set(self, key, value):\n",
    "        self.linkedList.add_to_tail((key, value))\n",
    "        self.dictionary[key] = self.linkedList.tail\n",
    "        self.size += 1\n"
   ]
  },
  {
   "cell_type": "code",
   "execution_count": 93,
   "metadata": {},
   "outputs": [
    {
     "data": {
      "text/plain": [
       "['Ahmad Watts',\n",
       " 'Franklin Cooper',\n",
       " 'Jaydin Sawyer',\n",
       " 'Sanai Harrison',\n",
       " 'Jaden Hawkins',\n",
       " 'Cloe Norris',\n",
       " 'Pablo Berg',\n",
       " 'Giancarlo Warren',\n",
       " 'Camryn Doyle',\n",
       " 'Aleah Valentine',\n",
       " 'Grace Bridges',\n",
       " 'Daphne Hamilton',\n",
       " 'Irvin Krause',\n",
       " 'Justine Soto',\n",
       " 'Josie Cole',\n",
       " 'Winston Austin',\n",
       " 'Ashlee Randall',\n",
       " 'Leon Cochran',\n",
       " 'Kale Sawyer',\n",
       " 'Alvaro Robbins',\n",
       " 'Malcolm Tucker',\n",
       " 'Jadyn Mays',\n",
       " 'Josie Dawson',\n",
       " 'Clay Wilkinson',\n",
       " 'Logan Morrow',\n",
       " 'Salma Meza',\n",
       " 'Trace Gates',\n",
       " 'Hayley Morgan',\n",
       " 'Dulce Hines',\n",
       " 'Abel Newman',\n",
       " 'Nathalie Little',\n",
       " 'Zara Suarez',\n",
       " 'Leia Foley',\n",
       " 'William Maldonado',\n",
       " 'Marley Rivers',\n",
       " 'Addison Clarke',\n",
       " 'Kameron Osborne',\n",
       " 'Aydan Calderon',\n",
       " 'Ali Collier',\n",
       " 'Marisol Morris',\n",
       " 'Peyton Lloyd',\n",
       " 'Eden Howe',\n",
       " 'Victoria Roach',\n",
       " 'Dashawn Green',\n",
       " 'Carley Gallegos',\n",
       " 'Selah Hansen',\n",
       " 'Hallie Vazquez',\n",
       " 'Piper Hamilton',\n",
       " 'Lennon Hunt',\n",
       " 'Andre Carrillo',\n",
       " 'Devyn Aguirre',\n",
       " 'River Johnson',\n",
       " 'Maliyah Serrano',\n",
       " 'Diego Chaney',\n",
       " 'Davion Arias',\n",
       " 'Nelson Acevedo',\n",
       " 'Malcolm Nelson',\n",
       " 'Raven Christensen',\n",
       " 'Luciana Ford',\n",
       " 'Amiah Hobbs',\n",
       " 'Megan Porter',\n",
       " 'Carsen Tyler',\n",
       " 'Jordin Schneider',\n",
       " 'Ralph Roth']"
      ]
     },
     "execution_count": 93,
     "metadata": {},
     "output_type": "execute_result"
    }
   ],
   "source": [
    "# What I want to do is set() each name of name_2. If it appears, then append to duplicates.\n",
    "# Do I (1) do that within the Class? Or (2) make it a part of the for loop...\n",
    "# 1) append duplicates from within the class\n",
    "duplicates = []\n",
    "for name_2 in names_2:\n",
    "    lru.get(name_2)\n",
    "duplicates"
   ]
  },
  {
   "cell_type": "code",
   "execution_count": 55,
   "metadata": {},
   "outputs": [
    {
     "data": {
      "text/plain": [
       "'Hallie Vazquez'"
      ]
     },
     "execution_count": 55,
     "metadata": {},
     "output_type": "execute_result"
    }
   ],
   "source": [
    "# a_dupe = duplicates[0]\n",
    "a_dupe"
   ]
  },
  {
   "cell_type": "code",
   "execution_count": 58,
   "metadata": {},
   "outputs": [],
   "source": [
    "lru.get(a_dupe)"
   ]
  },
  {
   "cell_type": "code",
   "execution_count": 68,
   "metadata": {},
   "outputs": [
    {
     "data": {
      "text/plain": [
       "('Jean Velazquez', 0)"
      ]
     },
     "execution_count": 68,
     "metadata": {},
     "output_type": "execute_result"
    }
   ],
   "source": [
    "lru.linkedList.head.value"
   ]
  },
  {
   "cell_type": "code",
   "execution_count": 91,
   "metadata": {},
   "outputs": [
    {
     "data": {
      "text/plain": [
       "10000"
      ]
     },
     "execution_count": 91,
     "metadata": {},
     "output_type": "execute_result"
    }
   ],
   "source": [
    "lru = LRUCache(10000)\n",
    "for index, name in enumerate(names_1):\n",
    "    lru.set(name,index)\n",
    "lru.size"
   ]
  },
  {
   "cell_type": "code",
   "execution_count": 81,
   "metadata": {},
   "outputs": [
    {
     "data": {
      "text/plain": [
       "'Jean Velazquez'"
      ]
     },
     "execution_count": 81,
     "metadata": {},
     "output_type": "execute_result"
    }
   ],
   "source": [
    "# lru.dictionary['Jean Velazquez'].value\n",
    "lru.dictionary[0].value[1]"
   ]
  },
  {
   "cell_type": "code",
   "execution_count": 47,
   "metadata": {},
   "outputs": [],
   "source": [
    "lru.get('Julio Rose')"
   ]
  },
  {
   "cell_type": "code",
   "execution_count": 48,
   "metadata": {},
   "outputs": [
    {
     "name": "stdout",
     "output_type": "stream",
     "text": [
      "0 duplicates:\n",
      "\n",
      "\n",
      "\n",
      "\n",
      "runtime: 0.02889704704284668 seconds\n"
     ]
    }
   ],
   "source": [
    "# IMPORTANT TESTING CELL\n",
    "import time\n",
    "\n",
    "start_time = time.time()\n",
    "\n",
    "f = open('names_1.txt', 'r')\n",
    "names_1 = f.read().split(\"\\n\")  # List containing 10000 names\n",
    "f.close()\n",
    "\n",
    "f = open('names_2.txt', 'r')\n",
    "names_2 = f.read().split(\"\\n\")  # List containing 10000 names\n",
    "f.close()\n",
    "\n",
    "duplicates = []  # Return the list of duplicates in this data structure\n",
    "\n",
    "### MY IMPLEMENTATION\n",
    "\n",
    "lru = LRUCache(10000)\n",
    "for index, name in enumerate(names_1):\n",
    "    lru.set(index, name)\n",
    "    \n",
    "for name_2 in names_2:\n",
    "    lru.get(name_2)\n",
    "    \n",
    "end_time = time.time()\n",
    "print (f\"{len(duplicates)} duplicates:\\n\\n{', '.join(duplicates)}\\n\\n\")\n",
    "print (f\"runtime: {end_time - start_time} seconds\")"
   ]
  },
  {
   "cell_type": "code",
   "execution_count": 52,
   "metadata": {},
   "outputs": [],
   "source": [
    "## INITIAL IMPLEMENTATION\n",
    "duplicates = []  # Return the list of duplicates in this data structure\n",
    "\n",
    "# Replace the nested for loops below with your improvements\n",
    "for name_1 in names_1:\n",
    "    for name_2 in names_2:\n",
    "        if name_1 == name_2:\n",
    "            duplicates.append(name_1)"
   ]
  },
  {
   "cell_type": "code",
   "execution_count": null,
   "metadata": {},
   "outputs": [],
   "source": [
    "\n",
    "class LRUCache:\n",
    "    \"\"\"\n",
    "    Our LRUCache class keeps track of the max number of nodes it\n",
    "    can hold, the current number of nodes it is holding, a doubly-\n",
    "    linked list that holds the key-value entries in the correct\n",
    "    order, as well as a storage dict that provides fast access\n",
    "    to every node stored in the cache. \n",
    "    \"\"\"\n",
    "    def __init__(self, limit=10):\n",
    "        self.limit = limit\n",
    "        self.hash = {}\n",
    "        self.storage = DoublyLinkedList()\n",
    "        self.size = 0\n",
    "        pass\n",
    "\n",
    "    def get(self, key):\n",
    "        if key in self.dictionary:\n",
    "            node = self.dictionary[key]\n",
    "            self.linkedList.move_to_end(node)\n",
    "            return node.value[1]\n",
    "        else:\n",
    "            return None\n",
    "\n",
    "    def set(self, key, value):\n",
    "        if key in self.dictionary:\n",
    "            node = self.dictionary[key]\n",
    "            node.value = (key, value)\n",
    "            self.linkedList.move_to_end(node)\n",
    "            return\n",
    "        # if it reaches the limit then override the first item\n",
    "        if self.size == self.limit:\n",
    "            del self.dictionary[self.linkedList.head.value[0]]\n",
    "            self.linkedList.remove_from_head()\n",
    "            self.size -= 1\n",
    "        # and add new item to tail\n",
    "        self.linkedList.add_to_tail((key, value))\n",
    "        self.dictionary[key] = self.linkedList.tail\n",
    "        self.size += 1\n"
   ]
  },
  {
   "cell_type": "code",
   "execution_count": 257,
   "metadata": {},
   "outputs": [],
   "source": [
    "class Node:\n",
    "    def __init__(self, value=None, next_node=None):\n",
    "        # the value at this linked list node\n",
    "        self.value = value\n",
    "        # reference to the next node in the list\n",
    "        self.next = next_node\n",
    "\n",
    "    def get_value(self):\n",
    "        return self.value\n",
    "\n",
    "    def get_next(self):\n",
    "        return self.next\n",
    "\n",
    "    def set_next(self, new_next):\n",
    "        # set this node's next_node reference to the passed in node\n",
    "        self.next = new_next\n",
    "\n",
    "\n",
    "class LinkedList:\n",
    "    def __init__(self):\n",
    "        # reference to the head of the list\n",
    "        self.head = None\n",
    "\n",
    "    def add_to_head(self, value):\n",
    "        node = Node(value)\n",
    "        if self.head is not None:\n",
    "            node.set_next(self.head)\n",
    "\n",
    "        self.head = node\n",
    "\n",
    "    def contains(self, value):\n",
    "        if not self.head:\n",
    "            return False\n",
    "        # get a reference to the node we're currently at; update this as we\n",
    "        # traverse the list\n",
    "        current = self.head\n",
    "        # check to see if we're at a valid node\n",
    "        while current:\n",
    "            # return True if the current value we're looking at matches our\n",
    "            # target value\n",
    "            if current.get_value() == value:\n",
    "                return True\n",
    "            # update our current node to the current node's next node\n",
    "            current = current.get_next()\n",
    "        # if we've gotten here, then the target node isn't in our list\n",
    "        return False\n",
    "\n",
    "    def reverse_list(self, node, prev):\n",
    "        # You must use recursion for this solution\n",
    "        pass\n",
    "\n",
    "\n",
    "    def reverse_list(self, node, prev):\n",
    "        # You must use recursion for this solution\n",
    "        if node == None:\n",
    "            return node\n",
    "        if node.next == None:\n",
    "            return node\n",
    "        node_next = self.reverse_list(node.next, None)\n",
    "        node.next.next = node\n",
    "        node.next = None\n",
    "        return node_next\n"
   ]
  },
  {
   "cell_type": "code",
   "execution_count": 258,
   "metadata": {},
   "outputs": [],
   "source": [
    "#     self.list = LinkedList()\n",
    "\n",
    "#   def test_add_to_head(self):\n",
    "#     self.list.add_to_head(1)\n",
    "#     self.assertEqual(self.list.head.value, 1)\n",
    "#     self.list.add_to_head(2)\n",
    "#     self.assertEqual(self.list.head.value, 2)\n"
   ]
  },
  {
   "cell_type": "code",
   "execution_count": 259,
   "metadata": {},
   "outputs": [
    {
     "name": "stdout",
     "output_type": "stream",
     "text": [
      "2 1\n",
      "3 2\n"
     ]
    }
   ],
   "source": [
    "LL = LinkedList()\n",
    "LL.add_to_head(1)\n",
    "LL.add_to_head(2)\n",
    "print(LL.head.value, LL.head.next.value)\n",
    "LL.add_to_head(3)\n",
    "print(LL.head.value, LL.head.next.value)\n"
   ]
  },
  {
   "cell_type": "code",
   "execution_count": 260,
   "metadata": {},
   "outputs": [
    {
     "data": {
      "text/plain": [
       "3"
      ]
     },
     "execution_count": 260,
     "metadata": {},
     "output_type": "execute_result"
    }
   ],
   "source": [
    "LL.head.value"
   ]
  },
  {
   "cell_type": "code",
   "execution_count": 263,
   "metadata": {},
   "outputs": [],
   "source": [
    "LL.reverse_list(LL.head, None).next"
   ]
  },
  {
   "cell_type": "code",
   "execution_count": null,
   "metadata": {},
   "outputs": [],
   "source": []
  },
  {
   "cell_type": "code",
   "execution_count": null,
   "metadata": {},
   "outputs": [],
   "source": []
  },
  {
   "cell_type": "code",
   "execution_count": null,
   "metadata": {},
   "outputs": [],
   "source": []
  }
 ],
 "metadata": {
  "kernelspec": {
   "display_name": "Python 3",
   "language": "python",
   "name": "python3"
  },
  "language_info": {
   "codemirror_mode": {
    "name": "ipython",
    "version": 3
   },
   "file_extension": ".py",
   "mimetype": "text/x-python",
   "name": "python",
   "nbconvert_exporter": "python",
   "pygments_lexer": "ipython3",
   "version": "3.7.4"
  }
 },
 "nbformat": 4,
 "nbformat_minor": 4
}
