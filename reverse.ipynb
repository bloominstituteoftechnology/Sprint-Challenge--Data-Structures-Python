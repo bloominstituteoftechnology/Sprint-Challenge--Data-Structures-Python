{
 "cells": [
  {
   "cell_type": "code",
   "execution_count": 111,
   "metadata": {},
   "outputs": [],
   "source": [
    "class Node:\n",
    "    def __init__(self, value=None, next_node=None):\n",
    "        # the value at this linked list node\n",
    "        self.value = value\n",
    "        # reference to the next node in the list\n",
    "        self.next = next_node\n",
    "\n",
    "    def get_value(self):\n",
    "        return self.value\n",
    "\n",
    "    def get_next(self):\n",
    "        return self.next\n",
    "\n",
    "    def set_next(self, new_next):\n",
    "        # set this node's next_node reference to the passed in node\n",
    "        self.next = new_next\n",
    "\n",
    "\n",
    "class LinkedList:\n",
    "    def __init__(self):\n",
    "        # reference to the head of the list\n",
    "        self.head = None\n",
    "        self.next = None\n",
    "\n",
    "    def add_to_head(self, value):\n",
    "        node = Node(value)\n",
    "        if self.head is not None:\n",
    "            node.set_next(self.head)\n",
    "\n",
    "        self.head = node\n",
    "\n",
    "    def contains(self, value):\n",
    "        if not self.head:\n",
    "            return False\n",
    "        # get a reference to the node we're currently at; update this as we\n",
    "        # traverse the list\n",
    "        current = self.head\n",
    "        # check to see if we're at a valid node\n",
    "        while current:\n",
    "            # return True if the current value we're looking at matches our\n",
    "            # target value\n",
    "            if current.get_value() == value:\n",
    "                return True\n",
    "            # update our current node to the current node's next node\n",
    "            current = current.get_next()\n",
    "        # if we've gotten here, then the target node isn't in our list\n",
    "        return False\n",
    "\n",
    "    def reverse_list(self, node, prev):\n",
    "        # You must use recursion for this solution\n",
    "        if node == None:\n",
    "            return node\n",
    "        if node.next == None:\n",
    "            return prev\n",
    "        node_next = self.reverse_list(node.next, node)\n",
    "        node.next.node = node\n",
    "        node.next = None\n",
    "        return node_next\n",
    "    \n",
    "    def reverse(self, item, tail = None):\n",
    "        next_ = item.next\n",
    "        item.next = tail\n",
    "        if next_ is None:\n",
    "            return item\n",
    "        else:\n",
    "            return self.reverse(next_, item)\n"
   ]
  },
  {
   "cell_type": "code",
   "execution_count": 112,
   "metadata": {},
   "outputs": [],
   "source": [
    "LL = LinkedList()"
   ]
  },
  {
   "cell_type": "code",
   "execution_count": 113,
   "metadata": {},
   "outputs": [],
   "source": [
    "LL.add_to_head(1)\n",
    "LL.add_to_head(2)\n",
    "LL.add_to_head(3)"
   ]
  },
  {
   "cell_type": "code",
   "execution_count": 114,
   "metadata": {},
   "outputs": [
    {
     "data": {
      "text/plain": [
       "1"
      ]
     },
     "execution_count": 114,
     "metadata": {},
     "output_type": "execute_result"
    }
   ],
   "source": [
    "LL.head.next.next.value"
   ]
  },
  {
   "cell_type": "code",
   "execution_count": 117,
   "metadata": {},
   "outputs": [
    {
     "data": {
      "text/plain": [
       "3"
      ]
     },
     "execution_count": 117,
     "metadata": {},
     "output_type": "execute_result"
    }
   ],
   "source": [
    "LL.reverse(LL.head).value"
   ]
  },
  {
   "cell_type": "code",
   "execution_count": 116,
   "metadata": {},
   "outputs": [
    {
     "data": {
      "text/plain": [
       "3"
      ]
     },
     "execution_count": 116,
     "metadata": {},
     "output_type": "execute_result"
    }
   ],
   "source": [
    "LL.head.value"
   ]
  },
  {
   "cell_type": "code",
   "execution_count": null,
   "metadata": {},
   "outputs": [],
   "source": []
  }
 ],
 "metadata": {
  "kernelspec": {
   "display_name": "Python 3",
   "language": "python",
   "name": "python3"
  },
  "language_info": {
   "codemirror_mode": {
    "name": "ipython",
    "version": 3
   },
   "file_extension": ".py",
   "mimetype": "text/x-python",
   "name": "python",
   "nbconvert_exporter": "python",
   "pygments_lexer": "ipython3",
   "version": "3.7.4"
  }
 },
 "nbformat": 4,
 "nbformat_minor": 4
}
